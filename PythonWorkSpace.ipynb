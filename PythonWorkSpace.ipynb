{
 "cells": [
  {
   "cell_type": "code",
   "execution_count": 1,
   "metadata": {},
   "outputs": [
    {
     "data": {
      "text/plain": [
       "['False',\n",
       " 'None',\n",
       " 'True',\n",
       " 'and',\n",
       " 'as',\n",
       " 'assert',\n",
       " 'async',\n",
       " 'await',\n",
       " 'break',\n",
       " 'class',\n",
       " 'continue',\n",
       " 'def',\n",
       " 'del',\n",
       " 'elif',\n",
       " 'else',\n",
       " 'except',\n",
       " 'finally',\n",
       " 'for',\n",
       " 'from',\n",
       " 'global',\n",
       " 'if',\n",
       " 'import',\n",
       " 'in',\n",
       " 'is',\n",
       " 'lambda',\n",
       " 'nonlocal',\n",
       " 'not',\n",
       " 'or',\n",
       " 'pass',\n",
       " 'raise',\n",
       " 'return',\n",
       " 'try',\n",
       " 'while',\n",
       " 'with',\n",
       " 'yield']"
      ]
     },
     "execution_count": 1,
     "metadata": {},
     "output_type": "execute_result"
    }
   ],
   "source": [
    "import keyword\n",
    "keyword.kwlist"
   ]
  },
  {
   "cell_type": "code",
   "execution_count": null,
   "metadata": {},
   "outputs": [
    {
     "name": "stdout",
     "output_type": "stream",
     "text": [
      "hello 4 all sbdh vj\n",
      "hello*4*all\n",
      "hello4all\n",
      "hello  4  all\n"
     ]
    }
   ],
   "source": [
    "print('hello',2+2,'all sbdh vj')\n",
    "print('hello',2+2,'all',sep=\"*\" )\n",
    "print('hello',2+2,'all',sep=\"\" )\n",
    "print('hello',2+2,'all',sep=' ' )"
   ]
  },
  {
   "cell_type": "code",
   "execution_count": 18,
   "metadata": {},
   "outputs": [
    {
     "name": "stdout",
     "output_type": "stream",
     "text": [
      "hello world 4 this is python\n",
      "Apple\n",
      "\n",
      "\n"
     ]
    }
   ],
   "source": [
    "print('hello world',2+2,'this is python')\n",
    "print('Apple')\n",
    "print(\"\\n\")"
   ]
  },
  {
   "cell_type": "code",
   "execution_count": 17,
   "metadata": {},
   "outputs": [
    {
     "name": "stdout",
     "output_type": "stream",
     "text": [
      "hello world 4 this is python*Apple\n",
      "\n",
      "\n"
     ]
    }
   ],
   "source": [
    "print('hello world',2+2,'this is python', end=\"*\")\n",
    "print('Apple')\n",
    "print(\"\\n\")"
   ]
  },
  {
   "cell_type": "code",
   "execution_count": null,
   "metadata": {},
   "outputs": [
    {
     "name": "stdout",
     "output_type": "stream",
     "text": [
      "hello world 4 this is python\n",
      "apple\n"
     ]
    }
   ],
   "source": [
    "print('hello world',2+2,'this is python', end=\"\\n\")\n",
    "print('Apple')"
   ]
  },
  {
   "cell_type": "code",
   "execution_count": 19,
   "metadata": {},
   "outputs": [
    {
     "name": "stdout",
     "output_type": "stream",
     "text": [
      "Mufti_Habib\n"
     ]
    }
   ],
   "source": [
    "print('Mufti','Habib' ,sep='_')"
   ]
  },
  {
   "cell_type": "code",
   "execution_count": 22,
   "metadata": {},
   "outputs": [
    {
     "name": "stdout",
     "output_type": "stream",
     "text": [
      "Mufti_habib\n",
      "\n",
      "\n"
     ]
    }
   ],
   "source": [
    "print('Mufti',end='_')\n",
    "print('habib')\n",
    "print('\\n')"
   ]
  },
  {
   "cell_type": "code",
   "execution_count": 23,
   "metadata": {},
   "outputs": [
    {
     "name": "stdout",
     "output_type": "stream",
     "text": [
      "<class 'list'>\n"
     ]
    }
   ],
   "source": [
    "l1=[1,2,3,4]\n",
    "print(type(l1))"
   ]
  },
  {
   "cell_type": "code",
   "execution_count": 25,
   "metadata": {},
   "outputs": [
    {
     "name": "stdout",
     "output_type": "stream",
     "text": [
      "range(0, 5)\n",
      "<class 'range'>\n"
     ]
    }
   ],
   "source": [
    "r1 = range(0,5)\n",
    "print(r1)\n",
    "print(type(r1))"
   ]
  },
  {
   "cell_type": "code",
   "execution_count": 35,
   "metadata": {},
   "outputs": [
    {
     "name": "stdout",
     "output_type": "stream",
     "text": [
      "[1, 2, 3, 4, 5, 'apple', 2.25, 8]\n",
      "[1, 2, 3, 4, 5, 'apple', 2.25, 8, 1, 2, 3, 4]\n",
      "[1, 2, 4, 5, 'apple', 2.25, 8, 1, 2, 3, 4]\n",
      "[5, 1, 2, 4, 5, 'apple', 2.25, 8, 1, 2, 3, 4]\n",
      "[5, 1, 2, 4, 5, 'apple', 2.25, 8, 1, 2, 3, 4]\n"
     ]
    }
   ],
   "source": [
    "# Append, Extend, Remove, insert, delete\n",
    "\n",
    "l2 = [1,2,3,4,5,\"apple\", 2.25]\n",
    "l2.append(8)\n",
    "print(l2)\n",
    "l2.extend(l1)\n",
    "print(l2)\n",
    "l2.remove(3)\n",
    "print(l2)\n",
    "l2.insert(0,5)\n",
    "print(l2)\n",
    "# del(l2)\n",
    "print(l2)"
   ]
  },
  {
   "cell_type": "markdown",
   "metadata": {},
   "source": [
    "# Operator"
   ]
  },
  {
   "cell_type": "code",
   "execution_count": 41,
   "metadata": {},
   "outputs": [
    {
     "name": "stdout",
     "output_type": "stream",
     "text": [
      "12\n",
      "61\n",
      "49\n",
      "-61\n",
      "240\n",
      "15\n"
     ]
    }
   ],
   "source": [
    "a = 60\n",
    "b = 13\n",
    "print(a&b)\n",
    "print(a|b)\n",
    "print(a^b)\n",
    "print(~a)\n",
    "print(a<<2)\n",
    "print(a>>2) "
   ]
  },
  {
   "cell_type": "code",
   "execution_count": 3,
   "metadata": {},
   "outputs": [
    {
     "name": "stdout",
     "output_type": "stream",
     "text": [
      "Area of rectangle is: 20\n"
     ]
    }
   ],
   "source": [
    "length = int(input())\n",
    "breadth = int(input())\n",
    "Area = length*breadth\n",
    "print(\"Area of rectangle is:\",Area)"
   ]
  },
  {
   "cell_type": "code",
   "execution_count": 1,
   "metadata": {},
   "outputs": [
    {
     "name": "stdout",
     "output_type": "stream",
     "text": [
      "1\n",
      "3.3333333333333335\n"
     ]
    }
   ],
   "source": [
    "num1 = 10\n",
    "num2 = 3\n",
    "\n",
    "print(num1%num2)\n",
    "print(num1/num2)"
   ]
  },
  {
   "cell_type": "code",
   "execution_count": 4,
   "metadata": {},
   "outputs": [
    {
     "name": "stdout",
     "output_type": "stream",
     "text": [
      "Hello mufti Your age next year will be 30 years\n"
     ]
    }
   ],
   "source": [
    "name = str(input())\n",
    "age = int(input())\n",
    "\n",
    "print('Hello',name,'Your age next year will be',age,'years')"
   ]
  },
  {
   "cell_type": "code",
   "execution_count": 8,
   "metadata": {},
   "outputs": [
    {
     "name": "stdout",
     "output_type": "stream",
     "text": [
      "10\n"
     ]
    }
   ],
   "source": [
    "print(eval(input(\"Enter the expression:\")))"
   ]
  },
  {
   "cell_type": "code",
   "execution_count": 9,
   "metadata": {},
   "outputs": [
    {
     "name": "stdout",
     "output_type": "stream",
     "text": [
      "Sum of number is: 15\n",
      "Diff of number is: 5\n",
      "multiply of number is: 50\n",
      "Div of number is: 2.0\n",
      "Modulo of number is: 0\n"
     ]
    }
   ],
   "source": [
    "num1 = int(input(\"Enter the number:\"))\n",
    "num2 = int(input(\"Enter the number\"))\n",
    "sum  = num1+num2\n",
    "diff = num1-num2\n",
    "multiply = num1*num2\n",
    "div = num1/num2\n",
    "mod = num1%num2\n",
    "print(\"Sum of number is:\",sum)\n",
    "print(\"Diff of number is:\",diff)\n",
    "print(\"multiply of number is:\",multiply)\n",
    "print(\"Div of number is:\",div)\n",
    "print(\"Modulo of number is:\",mod)"
   ]
  },
  {
   "cell_type": "markdown",
   "metadata": {},
   "source": [
    "Conditional & Looping Statment"
   ]
  },
  {
   "cell_type": "markdown",
   "metadata": {},
   "source": [
    "Condition"
   ]
  },
  {
   "cell_type": "code",
   "execution_count": 2,
   "metadata": {},
   "outputs": [
    {
     "name": "stdout",
     "output_type": "stream",
     "text": [
      "Customer can't buy the phone\n"
     ]
    }
   ],
   "source": [
    "Budget = int(input(\"Enter the budget:\"))\n",
    "if(Budget >= 30000):\n",
    "    print(\"Customer can buy the phone\")\n",
    "else:\n",
    "    print(\"Customer can't buy the phone\")    "
   ]
  },
  {
   "cell_type": "code",
   "execution_count": 3,
   "metadata": {},
   "outputs": [
    {
     "name": "stdout",
     "output_type": "stream",
     "text": [
      "Price is 20000\n"
     ]
    }
   ],
   "source": [
    "stroge = int(input(\"Enter the stroge of Phone:\"))\n",
    "if(stroge == 32):\n",
    "    print(\"Price is 15000\")\n",
    "elif(stroge == 64):\n",
    "    print(\"Price is 20000\")\n",
    "elif(stroge == 128):\n",
    "    print(\"Price is 30000\")\n",
    "elif(stroge == 256):\n",
    "    print(\"Price is 40000\")\n",
    "else:\n",
    "    print(\"Not Available\")        "
   ]
  },
  {
   "cell_type": "code",
   "execution_count": 11,
   "metadata": {},
   "outputs": [
    {
     "name": "stdout",
     "output_type": "stream",
     "text": [
      "Rejected\n"
     ]
    }
   ],
   "source": [
    "Score = int(input(\"Enter the Score of Candidate:\"))\n",
    "if(Score >= 80):\n",
    "    print(\"Elegible for 1st round\")\n",
    "    Score = int(input(\"Enter the Score of Candidate:\"))\n",
    "    if(Score >= 70):\n",
    "        print(\"Elegible for 2nd round\")\n",
    "        Score = int(input(\"Enter the Score of Candidate:\"))\n",
    "        if(Score >= 60):\n",
    "            print(\"In 3rd round, Selected\")\n",
    "        else:\n",
    "            print(\"Rejected\")\n",
    "    else:\n",
    "        print(\"Rejected\")\n",
    "else:\n",
    "    print(\"Rejected\")"
   ]
  },
  {
   "cell_type": "code",
   "execution_count": null,
   "metadata": {},
   "outputs": [
    {
     "name": "stdout",
     "output_type": "stream",
     "text": [
      "NA\n"
     ]
    }
   ],
   "source": [
    "Marks = int(input(\"Enter the Marks\"))\n",
    "if(Marks >= 80):\n",
    "    print(\"Group1\")\n",
    "elif(Marks<80 and Marks>=60):\n",
    "        print(\"Group2\")\n",
    "elif(Marks<60 and Marks>=40):\n",
    "        print(\"Group3\")\n",
    "else:\n",
    "       print(\"NA\")                "
   ]
  },
  {
   "cell_type": "code",
   "execution_count": 9,
   "metadata": {},
   "outputs": [
    {
     "name": "stdout",
     "output_type": "stream",
     "text": [
      "Incorect Username\n"
     ]
    }
   ],
   "source": [
    "Username = str(input(\"Enter the username:\"))\n",
    "if(Username == 'admin'):\n",
    "    password = int(input(\"Enter the password\"))\n",
    "    if(password == 12345):\n",
    "        print(\"login Succeful\")\n",
    "    else:\n",
    "        print(\"Incorect password\")\n",
    "else:\n",
    "    print(\"Incorect Username\")            "
   ]
  },
  {
   "cell_type": "code",
   "execution_count": null,
   "metadata": {},
   "outputs": [
    {
     "name": "stdout",
     "output_type": "stream",
     "text": [
      "Discount After 5%: 38000.0\n",
      "Discount After 10%: 36000.0\n",
      "Discount After 15%: 34000.0\n",
      "Discount After 20%: 32000.0\n"
     ]
    }
   ],
   "source": [
    "price = 40000\n",
    "Discount = 40000 - (40000/100)*5\n",
    "print(\"Discount After 5%:\",Discount)\n",
    "Discount = 40000 - (40000/100)*10\n",
    "print(\"Discount After 10%:\",Discount)\n",
    "Discount = 4000 - (4000/100)*15\n",
    "print(\"Discount After 15%:\",Discount)\n",
    "Discount = 40000 - (40000/100)*20\n",
    "print(\"Discount After 20%:\",Discount)"
   ]
  },
  {
   "cell_type": "code",
   "execution_count": null,
   "metadata": {},
   "outputs": [
    {
     "name": "stdout",
     "output_type": "stream",
     "text": [
      "5 %  38000.0\n",
      "10 %  36000.0\n",
      "15 %  34000.0\n",
      "20 %  32000.0\n"
     ]
    }
   ],
   "source": [
    "price = 40000\n",
    "for i in range(5,21,5):\n",
    "    p = price - (price/100)*i\n",
    "    print(i,'%',':',p)"
   ]
  },
  {
   "cell_type": "code",
   "execution_count": null,
   "metadata": {},
   "outputs": [
    {
     "name": "stdout",
     "output_type": "stream",
     "text": [
      "21 % : 32000.0\n"
     ]
    }
   ],
   "source": [
    "price = 40000\n",
    "i = 5\n",
    "while(i<21):\n",
    "    p = price-(price/100)*i\n",
    "    i+=5\n",
    "print(i,'%',':',p)    \n",
    "\n",
    "    "
   ]
  }
 ],
 "metadata": {
  "kernelspec": {
   "display_name": "Python 3",
   "language": "python",
   "name": "python3"
  },
  "language_info": {
   "codemirror_mode": {
    "name": "ipython",
    "version": 3
   },
   "file_extension": ".py",
   "mimetype": "text/x-python",
   "name": "python",
   "nbconvert_exporter": "python",
   "pygments_lexer": "ipython3",
   "version": "3.11.9"
  }
 },
 "nbformat": 4,
 "nbformat_minor": 2
}
