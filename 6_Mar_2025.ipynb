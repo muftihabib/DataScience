{
  "cells": [
    {
      "cell_type": "code",
      "source": [
        "list1 = [1,3,'apple',5,6,8]\n",
        "for i in list1:\n",
        "    print(i)\n",
        "    break"
      ],
      "metadata": {
        "id": "N0U_IKt_trMl",
        "outputId": "99f3e2d6-c577-4032-b8be-cc089cc57959",
        "colab": {
          "base_uri": "https://localhost:8080/"
        }
      },
      "execution_count": null,
      "outputs": [
        {
          "output_type": "stream",
          "name": "stdout",
          "text": [
            "1\n"
          ]
        }
      ]
    },
    {
      "cell_type": "code",
      "source": [
        "list1 = [1,3,'apple',5,6,8]\n",
        "for i in list1:\n",
        "    print(i)"
      ],
      "metadata": {
        "id": "tQL--PlouCbV",
        "outputId": "2d18a9db-bcaa-4119-e1db-fc23864e9475",
        "colab": {
          "base_uri": "https://localhost:8080/"
        }
      },
      "execution_count": null,
      "outputs": [
        {
          "output_type": "stream",
          "name": "stdout",
          "text": [
            "1\n",
            "3\n",
            "apple\n",
            "5\n",
            "6\n",
            "8\n"
          ]
        }
      ]
    },
    {
      "cell_type": "code",
      "source": [
        "list1 = [1,3,'apple',5,6,8]\n",
        "for i in list1:\n",
        "    if i==5:\n",
        "        break\n",
        "    print(i)"
      ],
      "metadata": {
        "id": "jHTeQyLsuFYj",
        "outputId": "f33635f2-12af-4117-bd65-d0d35b186ee3",
        "colab": {
          "base_uri": "https://localhost:8080/"
        }
      },
      "execution_count": null,
      "outputs": [
        {
          "output_type": "stream",
          "name": "stdout",
          "text": [
            "1\n",
            "3\n",
            "apple\n"
          ]
        }
      ]
    },
    {
      "cell_type": "code",
      "source": [
        "Numbers = [10,25,60,45,30,55,70]\n",
        "for i in Numbers:\n",
        "    if (i > 50):\n",
        "        print(i)\n",
        "        break"
      ],
      "metadata": {
        "id": "clQZ0aEIuINX"
      },
      "execution_count": null,
      "outputs": []
    },
    {
      "cell_type": "code",
      "source": [
        "passWord = str(input(\"Enter the passsword:\"))\n",
        "if(passWord == 'secret'):\n",
        "    print(\"Login Succefull\")\n",
        "else:\n",
        "    print(\"Login Unsuccefull\")"
      ],
      "metadata": {
        "id": "5_a0FF3ouM-O",
        "outputId": "ec84442d-b2a6-4854-fbc0-b04a39d4e09f",
        "colab": {
          "base_uri": "https://localhost:8080/"
        }
      },
      "execution_count": null,
      "outputs": [
        {
          "output_type": "stream",
          "name": "stdout",
          "text": [
            "Enter the passsword:secret\n",
            "Login Succefull\n"
          ]
        }
      ]
    },
    {
      "cell_type": "code",
      "source": [
        "passWord = str(input(\"Enter the password:\"))\n",
        "while(passWord != 'secret'):\n",
        "    passWord = str(input(\"Enter the password:\"))\n",
        "    if(passWord == 'secret'):\n",
        "        print('Correct password')\n",
        "        break"
      ],
      "metadata": {
        "id": "24fiVPjbuQOo",
        "outputId": "801e26ae-861b-4c1e-d061-6ceca8ca9fce",
        "colab": {
          "base_uri": "https://localhost:8080/"
        }
      },
      "execution_count": null,
      "outputs": [
        {
          "output_type": "stream",
          "name": "stdout",
          "text": [
            "Enter the password:shdbhveb\n",
            "Enter the password:sfhbvefh\n",
            "Enter the password:hsbfvjhf\n",
            "Enter the password:secret\n",
            "Correct password\n"
          ]
        }
      ]
    },
    {
      "cell_type": "code",
      "source": [
        "passWord = str(input('Enter the password:'))\n",
        "count = 1\n",
        "while(count <= 3):\n",
        "    passWord = str(input('Enter the password:'))\n",
        "    if(passWord == 'secret'):\n",
        "        print(\"Corect Password\")\n",
        "        break\n",
        "    else:\n",
        "        print('Incorect password')\n",
        "    count+=1\n",
        "else:\n",
        "    print('Account Blocked')"
      ],
      "metadata": {
        "id": "X50Mz0tJuWAw",
        "outputId": "8ffb2701-e4a3-4595-ee5d-3a57c28bc999",
        "colab": {
          "base_uri": "https://localhost:8080/"
        }
      },
      "execution_count": null,
      "outputs": [
        {
          "output_type": "stream",
          "name": "stdout",
          "text": [
            "Enter the password:hguifh\n",
            "Enter the password:fbvhf\n",
            "Incorect password\n",
            "Enter the password:sjvnjfvn\n",
            "Incorect password\n",
            "Enter the password:vnevhsbf\n",
            "Incorect password\n",
            "Account Blocked\n"
          ]
        }
      ]
    },
    {
      "cell_type": "code",
      "source": [
        "numbers = [10,25,-5,30,15,-8]\n",
        "for i in numbers:\n",
        "    print(i)"
      ],
      "metadata": {
        "id": "L6n6iSprueTV",
        "outputId": "572f201e-92ac-4d9f-f0de-fd2ed8ba7bdc",
        "colab": {
          "base_uri": "https://localhost:8080/"
        }
      },
      "execution_count": null,
      "outputs": [
        {
          "output_type": "stream",
          "name": "stdout",
          "text": [
            "10\n",
            "25\n",
            "-5\n",
            "30\n",
            "15\n",
            "-8\n"
          ]
        }
      ]
    },
    {
      "cell_type": "code",
      "source": [
        "numbers = [10,25,-5,30,15,-8]\n",
        "for i in numbers:\n",
        "    if(i<0):\n",
        "        print(i)\n",
        "        break"
      ],
      "metadata": {
        "id": "ci7aQrNOuiHV",
        "outputId": "c79f30f8-b4e4-44ee-a6c7-1c6ed27670b7",
        "colab": {
          "base_uri": "https://localhost:8080/"
        }
      },
      "execution_count": null,
      "outputs": [
        {
          "output_type": "stream",
          "name": "stdout",
          "text": [
            "-5\n"
          ]
        }
      ]
    },
    {
      "cell_type": "code",
      "source": [
        "numbers = [10,25,-5,30,15,-8]\n",
        "sum = 0\n",
        "for i in numbers:\n",
        "    if(i<0):\n",
        "        break\n",
        "    sum +=i\n",
        "print(sum)"
      ],
      "metadata": {
        "id": "Ibm7J7BpujCx",
        "outputId": "f3f19ea7-eb07-4deb-ae43-c04047eb6391",
        "colab": {
          "base_uri": "https://localhost:8080/"
        }
      },
      "execution_count": null,
      "outputs": [
        {
          "output_type": "stream",
          "name": "stdout",
          "text": [
            "35\n"
          ]
        }
      ]
    },
    {
      "cell_type": "code",
      "source": [
        "numbers = [1,2,3,4,5,6,7,8,9,10]\n",
        "for i in numbers:\n",
        "    if(i%2 != 0):\n",
        "        continue\n",
        "    print(i)"
      ],
      "metadata": {
        "id": "lAZvLBN2ulOY",
        "outputId": "143b81cd-ff74-43b8-a112-1f06769063f1",
        "colab": {
          "base_uri": "https://localhost:8080/"
        }
      },
      "execution_count": null,
      "outputs": [
        {
          "output_type": "stream",
          "name": "stdout",
          "text": [
            "2\n",
            "4\n",
            "6\n",
            "8\n",
            "10\n"
          ]
        }
      ]
    },
    {
      "cell_type": "code",
      "source": [
        "# using continue\n",
        "numbers = [-2,5,-8,10,-3,15]\n",
        "for i in numbers:\n",
        "    if(i<0):\n",
        "        continue\n",
        "    print(i)"
      ],
      "metadata": {
        "id": "JYHBT1ntuqbq",
        "outputId": "671d297b-309f-4496-b169-43fbb3304dcb",
        "colab": {
          "base_uri": "https://localhost:8080/"
        }
      },
      "execution_count": null,
      "outputs": [
        {
          "output_type": "stream",
          "name": "stdout",
          "text": [
            "5\n",
            "10\n",
            "15\n"
          ]
        }
      ]
    },
    {
      "cell_type": "code",
      "source": [
        "# Without using continue\n",
        "numbers = [-2,5,-8,10,-3,15]\n",
        "for i in numbers:\n",
        "    if(i > 0):\n",
        "        print(i)"
      ],
      "metadata": {
        "id": "hunRrZwnuseV",
        "outputId": "924de812-0fd0-453b-c830-cdfb07845aca",
        "colab": {
          "base_uri": "https://localhost:8080/"
        }
      },
      "execution_count": null,
      "outputs": [
        {
          "output_type": "stream",
          "name": "stdout",
          "text": [
            "5\n",
            "10\n",
            "15\n"
          ]
        }
      ]
    },
    {
      "cell_type": "code",
      "source": [
        "str1 = str(input('Enter the String:'))\n",
        "count = 0\n",
        "for i in str1:\n",
        "    if(i=='a' or i=='e' or i=='i' or i=='o' or i=='u'):\n",
        "        count +=1\n",
        "    else:\n",
        "        continue\n",
        "print(count)"
      ],
      "metadata": {
        "id": "0t_oFoOmuu6h",
        "outputId": "22637bc9-7e53-47ed-c538-4131215d3ff0",
        "colab": {
          "base_uri": "https://localhost:8080/"
        }
      },
      "execution_count": null,
      "outputs": [
        {
          "output_type": "stream",
          "name": "stdout",
          "text": [
            "Enter the String:hhebdhbhvwuieejvs\n",
            "5\n"
          ]
        }
      ]
    },
    {
      "cell_type": "code",
      "source": [
        "word = str(input('Enter the word:'))\n",
        "print(word[::-1])"
      ],
      "metadata": {
        "colab": {
          "base_uri": "https://localhost:8080/"
        },
        "id": "4ubj4pdSxSFk",
        "outputId": "01d6f087-bd8d-4efa-e0e3-7db3defe71c0"
      },
      "execution_count": 4,
      "outputs": [
        {
          "output_type": "stream",
          "name": "stdout",
          "text": [
            "Enter the word:mufti\n",
            "itfum\n"
          ]
        }
      ]
    },
    {
      "cell_type": "markdown",
      "source": [
        "**Pass**"
      ],
      "metadata": {
        "id": "Z5KfMSBOwRro"
      }
    },
    {
      "cell_type": "code",
      "source": [
        "password = str(input('Enter the password:'))\n",
        "if(password == 'secret'):\n",
        "    print('Login Succefull')\n",
        "else:\n",
        "    pass"
      ],
      "metadata": {
        "id": "N_WCq_wUuxcl",
        "colab": {
          "base_uri": "https://localhost:8080/"
        },
        "outputId": "e54f9bc2-a41b-4ef5-cc92-e5e7780ceb4c"
      },
      "execution_count": 3,
      "outputs": [
        {
          "output_type": "stream",
          "name": "stdout",
          "text": [
            "Enter the password:secret\n",
            "Login Succefull\n"
          ]
        }
      ]
    }
  ],
  "metadata": {
    "colab": {
      "provenance": []
    },
    "kernelspec": {
      "display_name": "Python 3",
      "name": "python3"
    }
  },
  "nbformat": 4,
  "nbformat_minor": 0
}